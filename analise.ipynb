{
 "cells": [
  {
   "cell_type": "code",
   "execution_count": 1,
   "metadata": {},
   "outputs": [],
   "source": [
    "import pandas as pd\n",
    "import matplotlib.pyplot as plt\n",
    "import seaborn as sns\n",
    "import numpy as np"
   ]
  },
  {
   "cell_type": "code",
   "execution_count": 2,
   "metadata": {},
   "outputs": [],
   "source": [
    "df = pd.read_csv('car_resale_prices.csv')"
   ]
  },
  {
   "cell_type": "code",
   "execution_count": 3,
   "metadata": {},
   "outputs": [
    {
     "data": {
      "text/html": [
       "<div>\n",
       "<style scoped>\n",
       "    .dataframe tbody tr th:only-of-type {\n",
       "        vertical-align: middle;\n",
       "    }\n",
       "\n",
       "    .dataframe tbody tr th {\n",
       "        vertical-align: top;\n",
       "    }\n",
       "\n",
       "    .dataframe thead th {\n",
       "        text-align: right;\n",
       "    }\n",
       "</style>\n",
       "<table border=\"1\" class=\"dataframe\">\n",
       "  <thead>\n",
       "    <tr style=\"text-align: right;\">\n",
       "      <th></th>\n",
       "      <th>Unnamed: 0</th>\n",
       "      <th>full_name</th>\n",
       "      <th>resale_price</th>\n",
       "      <th>registered_year</th>\n",
       "      <th>engine_capacity</th>\n",
       "      <th>insurance</th>\n",
       "      <th>transmission_type</th>\n",
       "      <th>kms_driven</th>\n",
       "      <th>owner_type</th>\n",
       "      <th>fuel_type</th>\n",
       "      <th>max_power</th>\n",
       "      <th>seats</th>\n",
       "      <th>mileage</th>\n",
       "      <th>body_type</th>\n",
       "      <th>city</th>\n",
       "    </tr>\n",
       "  </thead>\n",
       "  <tbody>\n",
       "    <tr>\n",
       "      <th>0</th>\n",
       "      <td>0</td>\n",
       "      <td>2017 Maruti Baleno 1.2 Alpha</td>\n",
       "      <td>₹ 5.45 Lakh</td>\n",
       "      <td>2017</td>\n",
       "      <td>1197 cc</td>\n",
       "      <td>Third Party insurance</td>\n",
       "      <td>Manual</td>\n",
       "      <td>40,000 Kms</td>\n",
       "      <td>First Owner</td>\n",
       "      <td>Petrol</td>\n",
       "      <td>83.1bhp</td>\n",
       "      <td>5.0</td>\n",
       "      <td>21.4 kmpl</td>\n",
       "      <td>Hatchback</td>\n",
       "      <td>Agra</td>\n",
       "    </tr>\n",
       "    <tr>\n",
       "      <th>1</th>\n",
       "      <td>1</td>\n",
       "      <td>2018 Tata Hexa XTA</td>\n",
       "      <td>₹ 10 Lakh</td>\n",
       "      <td>2018</td>\n",
       "      <td>2179 cc</td>\n",
       "      <td>Third Party insurance</td>\n",
       "      <td>Automatic</td>\n",
       "      <td>70,000 Kms</td>\n",
       "      <td>First Owner</td>\n",
       "      <td>Diesel</td>\n",
       "      <td>153.86bhp</td>\n",
       "      <td>7.0</td>\n",
       "      <td>17.6 kmpl</td>\n",
       "      <td>MUV</td>\n",
       "      <td>Agra</td>\n",
       "    </tr>\n",
       "    <tr>\n",
       "      <th>2</th>\n",
       "      <td>2</td>\n",
       "      <td>2015 Maruti Swift Dzire VXI</td>\n",
       "      <td>₹ 4.50 Lakh</td>\n",
       "      <td>2015</td>\n",
       "      <td>1197 cc</td>\n",
       "      <td>Third Party insurance</td>\n",
       "      <td>Manual</td>\n",
       "      <td>70,000 Kms</td>\n",
       "      <td>Second Owner</td>\n",
       "      <td>Petrol</td>\n",
       "      <td>83.14bhp</td>\n",
       "      <td>5.0</td>\n",
       "      <td>20.85 kmpl</td>\n",
       "      <td>Sedan</td>\n",
       "      <td>Agra</td>\n",
       "    </tr>\n",
       "    <tr>\n",
       "      <th>3</th>\n",
       "      <td>3</td>\n",
       "      <td>2015 Maruti Swift Dzire VXI</td>\n",
       "      <td>₹ 4.50 Lakh</td>\n",
       "      <td>2015</td>\n",
       "      <td>1197 cc</td>\n",
       "      <td>Third Party insurance</td>\n",
       "      <td>Manual</td>\n",
       "      <td>70,000 Kms</td>\n",
       "      <td>Second Owner</td>\n",
       "      <td>Petrol</td>\n",
       "      <td>83.14bhp</td>\n",
       "      <td>5.0</td>\n",
       "      <td>20.85 kmpl</td>\n",
       "      <td>Sedan</td>\n",
       "      <td>Agra</td>\n",
       "    </tr>\n",
       "    <tr>\n",
       "      <th>4</th>\n",
       "      <td>4</td>\n",
       "      <td>2009 Hyundai i10 Magna 1.1</td>\n",
       "      <td>₹ 1.60 Lakh</td>\n",
       "      <td>2009</td>\n",
       "      <td>1086 cc</td>\n",
       "      <td>Third Party insurance</td>\n",
       "      <td>Manual</td>\n",
       "      <td>80,000 Kms</td>\n",
       "      <td>First Owner</td>\n",
       "      <td>Petrol</td>\n",
       "      <td>68.05bhp</td>\n",
       "      <td>5.0</td>\n",
       "      <td>19.81 kmpl</td>\n",
       "      <td>Hatchback</td>\n",
       "      <td>Agra</td>\n",
       "    </tr>\n",
       "  </tbody>\n",
       "</table>\n",
       "</div>"
      ],
      "text/plain": [
       "   Unnamed: 0                     full_name resale_price registered_year  \\\n",
       "0           0  2017 Maruti Baleno 1.2 Alpha  ₹ 5.45 Lakh            2017   \n",
       "1           1            2018 Tata Hexa XTA    ₹ 10 Lakh            2018   \n",
       "2           2   2015 Maruti Swift Dzire VXI  ₹ 4.50 Lakh            2015   \n",
       "3           3   2015 Maruti Swift Dzire VXI  ₹ 4.50 Lakh            2015   \n",
       "4           4    2009 Hyundai i10 Magna 1.1  ₹ 1.60 Lakh            2009   \n",
       "\n",
       "  engine_capacity              insurance transmission_type  kms_driven  \\\n",
       "0         1197 cc  Third Party insurance            Manual  40,000 Kms   \n",
       "1         2179 cc  Third Party insurance         Automatic  70,000 Kms   \n",
       "2         1197 cc  Third Party insurance            Manual  70,000 Kms   \n",
       "3         1197 cc  Third Party insurance            Manual  70,000 Kms   \n",
       "4         1086 cc  Third Party insurance            Manual  80,000 Kms   \n",
       "\n",
       "     owner_type fuel_type  max_power  seats     mileage  body_type  city  \n",
       "0   First Owner    Petrol    83.1bhp    5.0   21.4 kmpl  Hatchback  Agra  \n",
       "1   First Owner    Diesel  153.86bhp    7.0   17.6 kmpl        MUV  Agra  \n",
       "2  Second Owner    Petrol   83.14bhp    5.0  20.85 kmpl      Sedan  Agra  \n",
       "3  Second Owner    Petrol   83.14bhp    5.0  20.85 kmpl      Sedan  Agra  \n",
       "4   First Owner    Petrol   68.05bhp    5.0  19.81 kmpl  Hatchback  Agra  "
      ]
     },
     "execution_count": 3,
     "metadata": {},
     "output_type": "execute_result"
    }
   ],
   "source": [
    "df.head()"
   ]
  },
  {
   "cell_type": "code",
   "execution_count": 4,
   "metadata": {},
   "outputs": [],
   "source": [
    "df.drop(columns=['Unnamed: 0'], inplace=True)"
   ]
  },
  {
   "cell_type": "code",
   "execution_count": 5,
   "metadata": {},
   "outputs": [
    {
     "data": {
      "text/plain": [
       "(17446, 14)"
      ]
     },
     "execution_count": 5,
     "metadata": {},
     "output_type": "execute_result"
    }
   ],
   "source": [
    "df.shape"
   ]
  },
  {
   "cell_type": "code",
   "execution_count": 6,
   "metadata": {},
   "outputs": [
    {
     "name": "stdout",
     "output_type": "stream",
     "text": [
      "<class 'pandas.core.frame.DataFrame'>\n",
      "RangeIndex: 17446 entries, 0 to 17445\n",
      "Data columns (total 14 columns):\n",
      " #   Column             Non-Null Count  Dtype  \n",
      "---  ------             --------------  -----  \n",
      " 0   full_name          17446 non-null  object \n",
      " 1   resale_price       17446 non-null  object \n",
      " 2   registered_year    17377 non-null  object \n",
      " 3   engine_capacity    17432 non-null  object \n",
      " 4   insurance          17439 non-null  object \n",
      " 5   transmission_type  17446 non-null  object \n",
      " 6   kms_driven         17443 non-null  object \n",
      " 7   owner_type         17401 non-null  object \n",
      " 8   fuel_type          17446 non-null  object \n",
      " 9   max_power          17344 non-null  object \n",
      " 10  seats              17436 non-null  float64\n",
      " 11  mileage            16938 non-null  object \n",
      " 12  body_type          17446 non-null  object \n",
      " 13  city               17446 non-null  object \n",
      "dtypes: float64(1), object(13)\n",
      "memory usage: 1.9+ MB\n"
     ]
    }
   ],
   "source": [
    "df.info()"
   ]
  },
  {
   "cell_type": "markdown",
   "metadata": {},
   "source": [
    "### Iniciando o tratamento de valores nulos"
   ]
  },
  {
   "cell_type": "code",
   "execution_count": 7,
   "metadata": {},
   "outputs": [
    {
     "data": {
      "text/plain": [
       "full_name              0\n",
       "resale_price           0\n",
       "registered_year       69\n",
       "engine_capacity       14\n",
       "insurance              7\n",
       "transmission_type      0\n",
       "kms_driven             3\n",
       "owner_type            45\n",
       "fuel_type              0\n",
       "max_power            102\n",
       "seats                 10\n",
       "mileage              508\n",
       "body_type              0\n",
       "city                   0\n",
       "dtype: int64"
      ]
     },
     "execution_count": 7,
     "metadata": {},
     "output_type": "execute_result"
    }
   ],
   "source": [
    "df.isnull().sum()"
   ]
  },
  {
   "cell_type": "code",
   "execution_count": 8,
   "metadata": {},
   "outputs": [
    {
     "data": {
      "text/plain": [
       "'2017'"
      ]
     },
     "execution_count": 8,
     "metadata": {},
     "output_type": "execute_result"
    }
   ],
   "source": [
    "df['full_name'][0].split()[0]"
   ]
  },
  {
   "cell_type": "code",
   "execution_count": 9,
   "metadata": {},
   "outputs": [
    {
     "data": {
      "text/plain": [
       "array(['2017', '2018', '2015', '2009', '2010', '2016', '2014', '2020',\n",
       "       '2021', '2019', '2011', '2012', '2013', '2022', '2004', '2008',\n",
       "       '2006', '2023', '2003', '2007', '1986', '2000', '2002', '2005',\n",
       "       '2001', '1999', '1998', '1985', '1997', '1995', '1989'],\n",
       "      dtype=object)"
      ]
     },
     "execution_count": 9,
     "metadata": {},
     "output_type": "execute_result"
    }
   ],
   "source": [
    "# Confirmando que sempre a primeira parte do split é um ano\n",
    "df['full_name'].apply(lambda x: x.split()[0]).unique()"
   ]
  },
  {
   "cell_type": "code",
   "execution_count": 10,
   "metadata": {},
   "outputs": [],
   "source": [
    "df['registered_year'] = df['registered_year'].fillna(df['full_name'].apply(lambda x: x.split()[0]))"
   ]
  },
  {
   "cell_type": "code",
   "execution_count": 11,
   "metadata": {},
   "outputs": [
    {
     "data": {
      "text/plain": [
       "'2022'"
      ]
     },
     "execution_count": 11,
     "metadata": {},
     "output_type": "execute_result"
    }
   ],
   "source": [
    "df.iloc[215]['registered_year']"
   ]
  },
  {
   "cell_type": "code",
   "execution_count": 12,
   "metadata": {},
   "outputs": [],
   "source": [
    "df.dropna(inplace=True)"
   ]
  },
  {
   "cell_type": "code",
   "execution_count": 13,
   "metadata": {},
   "outputs": [
    {
     "data": {
      "text/plain": [
       "full_name            0\n",
       "resale_price         0\n",
       "registered_year      0\n",
       "engine_capacity      0\n",
       "insurance            0\n",
       "transmission_type    0\n",
       "kms_driven           0\n",
       "owner_type           0\n",
       "fuel_type            0\n",
       "max_power            0\n",
       "seats                0\n",
       "mileage              0\n",
       "body_type            0\n",
       "city                 0\n",
       "dtype: int64"
      ]
     },
     "execution_count": 13,
     "metadata": {},
     "output_type": "execute_result"
    }
   ],
   "source": [
    "df.isnull().sum()"
   ]
  },
  {
   "cell_type": "markdown",
   "metadata": {},
   "source": [
    "#### Convertendo para float e normalizando a coluna de mileage para kmpl (quilômetros por litro) "
   ]
  },
  {
   "cell_type": "code",
   "execution_count": 14,
   "metadata": {},
   "outputs": [
    {
     "data": {
      "text/plain": [
       "array(['21.4 kmpl', '17.6 kmpl', '20.85 kmpl', '19.81 kmpl', '17.19 kmpl',\n",
       "       '27.28 kmpl', '15.37 kmpl', '18 kmpl', '20.14 kmpl', '21.56 kmpl',\n",
       "       '23.7 kmpl', '23.95 kmpl', '26.6 kmpl', '21.43 kmpl', '18.2 kmpl',\n",
       "       '20.65 kmpl', '22.7 kmpl', '11.3 kmpl', '26.59 kmpl', '20.92 kmpl',\n",
       "       '21.01 kmpl', '22.74 kmpl', '20.51 kmpl', '18.9 kmpl', '22.9 kmpl',\n",
       "       '15.1 kmpl', '11.57 kmpl', '23.84 kmpl', '24.3 kmpl', '25.47 kmpl',\n",
       "       '25.24 kmpl', '22.1 kmpl', '22.05 kmpl', '11.4 kmpl', '12.8 kmpl',\n",
       "       '18.8 kmpl', '24 kmpl', '21.94 km/kg', '16.55 kmpl', '21 kmpl',\n",
       "       '22.07 kmpl', '17.92 kmpl', '20.36 kmpl', '17.52 kmpl',\n",
       "       '18.97 kmpl', '20 kmpl', '16.56 kmpl', '21.1 kmpl', '20.09 kmpl',\n",
       "       '23.59 kmpl', '19.87 kmpl', '16 kmpl', '20.8 kmpl', '28.4 kmpl',\n",
       "       '21.79 kmpl', '20.45 kmpl', '24.4 kmpl', '27.3 kmpl', '22.41 kmpl',\n",
       "       '25.6 kmpl', '26.2 kmpl', '25.17 kmpl', '15.5 kmpl', '21.21 kmpl',\n",
       "       '15.4 kmpl', '25.8 kmpl', '23.4 kmpl', '26 kmpl', '17.33 kmpl',\n",
       "       '25.2 kmpl', '19.44 kmpl', '25.44 kmpl', '25.83 kmpl',\n",
       "       '20.52 kmpl', '16.5 kmpl', '16.2 kmpl', '13.96 kmpl', '17 kmpl',\n",
       "       '19.4 kmpl', '21.8 kmpl', '17.1 kmpl', '20.88 km/kg', '19.01 kmpl',\n",
       "       '22.54 kmpl', '19.67 kmpl', '17.8 kmpl', '24.04 kmpl', '18.6 kmpl',\n",
       "       '14.1 kmpl', '27.4 kmpl', '25.32 kmpl', '18.75 kmpl', '21.19 kmpl',\n",
       "       '15.43 kmpl', '20.77 kmpl', '15.73 kmpl', '18.5 kmpl', '10.1 kmpl',\n",
       "       '20.86 kmpl', '15.2 kmpl', '19 kmpl', '22 kmpl', '18.76 kmpl',\n",
       "       '13.2 kmpl', '16.6 kmpl', '14.8 kmpl', '23 kmpl', '22.32 kmpl',\n",
       "       '16.9 kmpl', '14.28 kmpl', '15.26 kmpl', '18.25 kmpl',\n",
       "       '17.84 kmpl', '13 kmpl', '12.07 kmpl', '11.74 kmpl', '19.2 kmpl',\n",
       "       '15.17 kmpl', '8.8 kmpl', '17.01 kmpl', '18.53 kmpl', '15.64 kmpl',\n",
       "       '14.11 kmpl', '20.38 kmpl', '24.39 kmpl', '23.1 kmpl', '17.5 kmpl',\n",
       "       '24.52 kmpl', '26.49 kmpl', '30.46 kmpl', '19.03 kmpl',\n",
       "       '22.77 kmpl', '17.9 kmpl', '24.7 kmpl', '21.63 kmpl', '19.5 kmpl',\n",
       "       '17.03 kmpl', '21.72 kmpl', '33.44 kmpl', '20.5 kmpl', '25.4 kmpl',\n",
       "       '20.89 kmpl', '20.1 kmpl', '22.38 kmpl', '12.99 kmpl', '24.8 kmpl',\n",
       "       '19.6 kmpl', '21.7 kmpl', '15.7 kmpl', '18.49 kmpl', '20.68 kmpl',\n",
       "       '13.24 kmpl', '19.47 kmpl', '22.25 kmpl', '34.05 kmpl', '25 kmpl',\n",
       "       '23.01 kmpl', '16.8 kmpl', '30.48 km/kg', '12.9 kmpl', '23.2 kmpl',\n",
       "       '26.68 kmpl', '20.7 kmpl', '20.73 kmpl', '14.94 kmpl',\n",
       "       '27.39 kmpl', '25.5 kmpl', '21.66 kmpl', '17.3 kmpl', '27 kmpl',\n",
       "       '23.22 kmpl', '11.88 kmpl', '32.52 kmpl', '25.1 kmpl',\n",
       "       '19.61 kmpl', '22.35 kmpl', '12.55 kmpl', '17.57 kmpl',\n",
       "       '15.04 kmpl', '18.55 kmpl', '26.8 kmpl', '19.33 kmpl', '17.4 kmpl',\n",
       "       '28.09 kmpl', '18.27 kmpl', '16.11 kmpl', '21.14 kmpl',\n",
       "       '23.57 kmpl', '14.2 kmpl', '21.13 kmpl', '20.28 kmpl', '18.1 kmpl',\n",
       "       '18.88 kmpl', '12.05 kmpl', '19.7 kmpl', '23.65 kmpl', '15.8 kmpl',\n",
       "       '21.5 kmpl', '10.91 kmpl', '28 km/kg', '17.29 kmpl', '20.3 kmpl',\n",
       "       '15.6 kmpl', '13.7 kmpl', '25.35 kmpl', '18.06 kmpl',\n",
       "       '31.59 km/kg', '22.56 kmpl', '18.15 kmpl', '23.64 kmpl',\n",
       "       '17.41 kmpl', '18.7 kmpl', '14.4 kmpl', '13.87 kmpl', '20.27 kmpl',\n",
       "       '26.55 kmpl', '16.1 kmpl', '16.47 kmpl', '23.5 kmpl', '24.97 kmpl',\n",
       "       '26.49 km/kg', '19.3 kmpl', '21.04 kmpl', '21.64 kmpl', '14 kmpl',\n",
       "       '12.7 kmpl', '13.93 kmpl', '21.38 kmpl', '12.98 kmpl',\n",
       "       '19.17 kmpl', '22.95 kmpl', '13.5 kmpl', '13.45 kmpl',\n",
       "       '26.82 kmpl', '18.16 kmpl', '19.98 kmpl', '11.5 kmpl',\n",
       "       '14.66 kmpl', '19.1 kmpl', '16.13 kmpl', '17.42 kmpl', '9.26 kmpl',\n",
       "       '12.83 kmpl', '15.56 kmpl', '20.37 kmpl', '17.05 kmpl',\n",
       "       '12.6 kmpl', '15.34 kmpl', '9.5 kmpl', '9.17 kmpl', '24.07 kmpl',\n",
       "       '26.21 kmpl', '22.48 kmpl', '13.38 kmpl', '14.75 kmpl',\n",
       "       '19.56 kmpl', '15.81 kmpl', '16.38 kmpl', '11 kmpl', '12.04 kmpl',\n",
       "       '12 kmpl', '17.67 kmpl', '7.81 kmpl', '12.4 kmpl', '17.7 kmpl',\n",
       "       '19.65 kmpl', '16.24 kmpl', '22.71 kmpl', '17.68 kmpl',\n",
       "       '15.96 kmpl', '16.82 kmpl', '15 kmpl', '14.59 kmpl', '14.82 kmpl',\n",
       "       '19.28 kmpl', '14.08 kmpl', '31.12 kmpl', '17.09 kmpl',\n",
       "       '20.04 kmpl', '14.74 kmpl', '18.45 kmpl', '12.62 kmpl',\n",
       "       '16.36 kmpl', '10.8 kmpl', '17.74 kmpl', '19.49 kmpl',\n",
       "       '20.63 kmpl', '32.26 kmpl', '16.3 kmpl', '17.72 kmpl',\n",
       "       '18.24 kmpl', '11.36 kmpl', '18.4 kmpl', '14.99 kmpl',\n",
       "       '22.15 kmpl', '20.34 kmpl', '20.54 kmpl', '18.3 kmpl',\n",
       "       '16.09 kmpl', '11.9 kmpl', '21.74 kmpl', '16.42 kmpl', '14.6 kmpl',\n",
       "       '20.4 kmpl', '11.67 kmpl', '14.3 kmpl', '16.02 kmpl', '16.35 kmpl',\n",
       "       '11.18 kmpl', '16.95 kmpl', '22.61 kmpl', '13.4 kmpl',\n",
       "       '19.34 kmpl', '18.12 kmpl', '19.16 kmpl', '12.74 kmpl',\n",
       "       '16.34 kmpl', '13.9 kmpl', '15.01 kmpl', '12.81 kmpl',\n",
       "       '15.68 kmpl', '23.9 kmpl', '8.13 kmpl', '11.7 kmpl', '8.9 kmpl',\n",
       "       '11.49 kmpl', '13.17 kmpl', '18.56 kmpl', '15.97 kmpl',\n",
       "       '16.77 kmpl', '15.3 kmpl', '10.54 kmpl', '22.8 kmpl', '14.16 kmpl',\n",
       "       '10.5 kmpl', '19.02 kmpl', '17.21 kmpl', '22.5 kmpl', '16.14 kmpl',\n",
       "       '21.02 kmpl', '15.85 kmpl', '31.2 kmpl', '19.68 kmpl',\n",
       "       '15.63 kmpl', '16.98 kmpl', '20.08 kmpl', '22.3 kmpl', '11.1 kmpl',\n",
       "       '17.71 kmpl', '35.6 km/kg', '33 kmpl', '18.78 kmpl', '13.01 kmpl',\n",
       "       '13.1 kmpl', '21.9 kmpl', '13.6 kmpl', '14.7 kmpl', '14.53 kmpl',\n",
       "       '10.9 kmpl', '23.08 kmpl', '21.27 kmpl', '16.94 kmpl',\n",
       "       '17.69 kmpl', '8 kmpl', '21.46 kmpl', '19.59 kmpl', '19.08 kmpl',\n",
       "       '13.68 kmpl', '17.32 kmpl', '16.73 kmpl', '14.47 kmpl',\n",
       "       '23.03 kmpl', '16.78 kmpl', '21.1 km/kg', '19.27 kmpl',\n",
       "       '21.76 kmpl', '12.2 kmpl', '17.43 kmpl', '15.29 kmpl',\n",
       "       '19.15 kmpl', '20.71 kmpl', '20.97 kmpl', '20.62 kmpl',\n",
       "       '14.62 kmpl', '19.8 kmpl', '20.15 kmpl', '18.23 kmpl',\n",
       "       '19.69 kmpl', '19.12 kmpl', '12.1 kmpl', '15.41 kmpl',\n",
       "       '11.24 kmpl', '19.64 kmpl', '10.71 kmpl', '14.07 kmpl',\n",
       "       '24.2 kmpl', '19.09 kmpl', '23.87 kmpl', '17.14 kmpl', '15.9 kmpl',\n",
       "       '11.2 kmpl', '24.76 kmpl', '14.95 kmpl', '18.64 kmpl',\n",
       "       '22.69 kmpl', '18.41 kmpl', '12.18 kmpl', '9.4 kmpl', '14.67 kmpl',\n",
       "       '18.19 kmpl', '24.35 kmpl', '14.69 kmpl', '16.07 kmpl',\n",
       "       '25.01 kmpl', '14.84 kmpl', '16.46 kmpl', '14.9 kmpl',\n",
       "       '27.97 kmpl', '14.24 kmpl', '19.71 kmpl', '11.78 kmpl',\n",
       "       '10.93 kmpl', '14.49 kmpl', '14.5 kmpl', '16.7 kmpl', '10.2 kmpl',\n",
       "       '11.81 kmpl', '15.15 kmpl', '14.21 kmpl', '9.52 kmpl',\n",
       "       '17.36 kmpl', '26.55 km/kg', '19.83 kmpl', '26.83 kmpl',\n",
       "       '17.88 kmpl', '14.23 kmpl', '12.35 kmpl', '23.56 kmpl',\n",
       "       '9.74 kmpl', '21.3 kmpl', '16.96 kmpl', '12.95 kmpl', '17.99 kmpl',\n",
       "       '11.07 kmpl', '26.78 km/kg', '18.84 kmpl', '16.25 kmpl',\n",
       "       '27.03 kmpl', '26.32 kmpl', '16.39 kmpl', '14.34 kmpl', '9 kmpl',\n",
       "       '15.16 kmpl', '25.19 kmpl', '12.63 kmpl', '10 kmpl', '18.07 kmpl',\n",
       "       '16.65 kmpl', '9.8 kmpl', '18.42 kmpl', '13.14 kmpl', '17.2 kmpl',\n",
       "       '20.58 kmpl', '11.33 kmpl', '23.8 kmpl', '14.19 kmpl', '10.6 kmpl',\n",
       "       '18.43 kmpl', '20.25 kmpl', '18.05 kmpl', '22.94 kmpl', '8.5 kmpl',\n",
       "       '19.23 kmpl', '17.11 kmpl', '14.85 kmpl', '19.72 kmpl',\n",
       "       '19.62 kmpl', '17.97 kmpl', '14.72 kmpl', '12.78 kmpl',\n",
       "       '18.48 kmpl', '22.37 kmpl', '21.58 kmpl', '18.67 kmpl',\n",
       "       '13.8 kmpl', '21.73 kmpl', '11.8 kmpl', '13.73 kmpl',\n",
       "       '26.08 km/kg', '21.49 kmpl', '31.79 kmpl', '26.11 kmpl',\n",
       "       '18.51 kmpl', '20.64 kmpl', '26.1 kmpl', '18.69 kmpl',\n",
       "       '30.47 km/kg', '19.89 kmpl', '10.7 kmpl', '18.33 kmpl',\n",
       "       '16.51 kmpl', '33.54 kmpl', '21.12 kmpl', '14.83 kmpl',\n",
       "       '18.86 kmpl', '17.66 kmpl', '9.6 kmpl', '16.93 kmpl', '13.44 kmpl',\n",
       "       '17.24 kmpl', '15.74 kmpl', '26.3 kmpl', '36 kmpl', '26.11 km/kg',\n",
       "       '18.44 kmpl', '15.11 kmpl', '8.45 kmpl', '23.3 kmpl', '6.7 kmpl',\n",
       "       '12.3 kmpl', '24.29 kmpl', '19.95 kmpl', '24.1 kmpl', '26.5 kmpl',\n",
       "       '12.12 kmpl', '15.38 kmpl', '20.46 kmpl', '120 kmpl', '25.3 kmpl',\n",
       "       '11.96 kmpl', '12.51 kmpl', '13.04 kmpl', '14.81 kmpl',\n",
       "       '10.26 kmpl', '17.85 kmpl', '12.65 kmpl', '8.7 kmpl', '18.9 km/kg',\n",
       "       '13.49 kmpl', '26.6 km/kg', '18.09 kmpl', '13.32 kmpl',\n",
       "       '14.41 kmpl', '13.79 kmpl', '13.58 kmpl', '140 kmpl', '13.06 kmpl',\n",
       "       '14.025 kmpl', '12.19 kmpl', '16.72 kmpl', '14.71 kmpl',\n",
       "       '19.05 kmpl', '11.86 kmpl', '17.54 kmpl', '12.5 kmpl',\n",
       "       '11.79 kmpl', '24.5 kmpl', '14.38 kmpl', '12.28 kmpl',\n",
       "       '11.25 kmpl', '10.98 kmpl', '14.02 kmpl', '24.43 kmpl',\n",
       "       '16.05 kmpl', '22.27 kmpl', '13.03 kmpl', '10.75 kmpl',\n",
       "       '13.05 kmpl', '12.33 kmpl', '17.45 kmpl', '7.08 kmpl',\n",
       "       '16.12 kmpl', '16.4 kmpl', '12.97 kmpl', '13.22 kmpl', '8.6 kmpl',\n",
       "       '9.43 kmpl', '14.01 kmpl', '9.2 kmpl', '13.33 kmpl', '33.85 km/kg',\n",
       "       '13.47 kmpl', '16.28 kmpl', '18.47 kmpl', '18.32 kmpl'],\n",
       "      dtype=object)"
      ]
     },
     "execution_count": 14,
     "metadata": {},
     "output_type": "execute_result"
    }
   ],
   "source": [
    "df['mileage'].unique()"
   ]
  },
  {
   "cell_type": "code",
   "execution_count": 15,
   "metadata": {},
   "outputs": [],
   "source": [
    "def converter_coluna_mileage(x):\n",
    "    if 'kmpl' in x:\n",
    "        return float(x.replace('kmpl', '').strip())\n",
    "    elif 'km/kg' in x:\n",
    "        km_kg = float(x.replace('km/kg', '').strip())\n",
    "        return km_kg / 1.39 # pesquisei a conversão de gás natural para quilômetros por litro\n",
    "    \n",
    "df['mileage'] = df['mileage'].apply(converter_coluna_mileage)\n",
    "df.rename(columns={'mileage': 'mileage_kmpl'}, inplace=True)"
   ]
  },
  {
   "cell_type": "code",
   "execution_count": 16,
   "metadata": {},
   "outputs": [
    {
     "data": {
      "text/plain": [
       "array(['40,000 Kms', '70,000 Kms', '80,000 Kms', ..., '9,400 Kms',\n",
       "       '800 Kms', '67,634 Kms'], shape=(8125,), dtype=object)"
      ]
     },
     "execution_count": 16,
     "metadata": {},
     "output_type": "execute_result"
    }
   ],
   "source": [
    "df['kms_driven'].unique()"
   ]
  },
  {
   "cell_type": "code",
   "execution_count": 17,
   "metadata": {},
   "outputs": [],
   "source": [
    "def converter_coluna_kms_driven(x):\n",
    "    return float(x.replace(',', '').replace('Kms', '').strip())\n",
    "    \n",
    "df['kms_driven'] = df['kms_driven'].apply(converter_coluna_kms_driven)"
   ]
  },
  {
   "cell_type": "markdown",
   "metadata": {},
   "source": [
    "#### Convertendo a coluna engine_capacity para inteiro e retirando os carros elétricos que possuem valores de 0 cc e 72 cc"
   ]
  },
  {
   "cell_type": "code",
   "execution_count": 18,
   "metadata": {},
   "outputs": [
    {
     "data": {
      "text/plain": [
       "array(['1197 cc', '2179 cc', '1086 cc', '1047 cc', '1196 cc', '1198 cc',\n",
       "       '1462 cc', '1493 cc', '1396 cc', '998 cc', '1496 cc', '1364 cc',\n",
       "       '1498 cc', '2360 cc', '1248 cc', '796 cc', '1199 cc', '2494 cc',\n",
       "       '1186 cc', '1968 cc', '999 cc', '1399 cc', '1956 cc', '814 cc',\n",
       "       '1461 cc', '1061 cc', '995 cc', '1499 cc', '799 cc', '1120 cc',\n",
       "       '1586 cc', '936 cc', '1353 cc', '1451 cc', '1497 cc', '1582 cc',\n",
       "       '1368 cc', '2354 cc', '2184 cc', '1995 cc', '2499 cc', '1395 cc',\n",
       "       '1998 cc', '1798 cc', '2143 cc', '2967 cc', '1796 cc', '2894 cc',\n",
       "       '1984 cc', '1298 cc', '1799 cc', '1591 cc', '624 cc', '1598 cc',\n",
       "       '1172 cc', '2755 cc', '1373 cc', '1405 cc', '2982 cc', '1997 cc',\n",
       "       '2498 cc', '2198 cc', '3198 cc', '909 cc', '1193 cc', '2609 cc',\n",
       "       '2199 cc', '3498 cc', '2993 cc', '1991 cc', '1950 cc', '3604 cc',\n",
       "       '2995 cc', '2998 cc', '1999 cc', '2987 cc', '1996 cc', '1896 cc',\n",
       "       '4663 cc', '2523 cc', '2393 cc', '4951 cc', '1495 cc', '1969 cc',\n",
       "       '1797 cc', '993 cc', '1595 cc', '1597 cc', '1341 cc', '2696 cc',\n",
       "       '2925 cc', '2979 cc', '2487 cc', '2996 cc', '4367 cc', '2477 cc',\n",
       "       '4999 cc', '2835 cc', '1599 cc', '1468 cc', '1150 cc', '2157 cc',\n",
       "       '1794 cc', '2400 cc', '1948 cc', '1993 cc', '2362 cc', '2200 cc',\n",
       "       '2956 cc', '2489 cc', '1596 cc', '1390 cc', '1490 cc', '5461 cc',\n",
       "       '1194 cc', '2496 cc', '1349 cc', '1330 cc', '4134 cc', '2694 cc',\n",
       "       '2999 cc', '2497 cc', '3471 cc', '2359 cc', '2953 cc', '5000 cc',\n",
       "       '2650 cc', '1482 cc', '2231 cc', '2446 cc', '1985 cc', '0 cc',\n",
       "       '2148 cc', '1781 cc', '1299 cc', '1339 cc', '1389 cc', '72 cc',\n",
       "       '1589 cc', '3597 cc', '1422 cc', '1108 cc', '2698 cc', '3200 cc',\n",
       "       '4806 cc', '4395 cc', '2997 cc', '3982 cc', '5998 cc', '2147 cc',\n",
       "       '1388 cc'], dtype=object)"
      ]
     },
     "execution_count": 18,
     "metadata": {},
     "output_type": "execute_result"
    }
   ],
   "source": [
    "df['engine_capacity'].unique()"
   ]
  },
  {
   "cell_type": "code",
   "execution_count": 19,
   "metadata": {},
   "outputs": [],
   "source": [
    "def converter_coluna_engine_capacity(x):\n",
    "    if pd.isna(x):\n",
    "        return x\n",
    "    else:\n",
    "        return int(x.replace('cc', '').strip())\n",
    "    \n",
    "df['engine_capacity'] = df['engine_capacity'].apply(converter_coluna_engine_capacity)\n",
    "df.rename(columns={'engine_capacity': 'engine_capacity_cc'}, inplace=True)"
   ]
  },
  {
   "cell_type": "code",
   "execution_count": 20,
   "metadata": {},
   "outputs": [
    {
     "data": {
      "text/plain": [
       "count    16808.000000\n",
       "mean      1419.745419\n",
       "std        466.482539\n",
       "min          0.000000\n",
       "25%       1197.000000\n",
       "50%       1248.000000\n",
       "75%       1498.000000\n",
       "max       5998.000000\n",
       "Name: engine_capacity_cc, dtype: float64"
      ]
     },
     "execution_count": 20,
     "metadata": {},
     "output_type": "execute_result"
    }
   ],
   "source": [
    "df['engine_capacity_cc'].describe()"
   ]
  },
  {
   "cell_type": "code",
   "execution_count": 21,
   "metadata": {},
   "outputs": [
    {
     "data": {
      "text/html": [
       "<div>\n",
       "<style scoped>\n",
       "    .dataframe tbody tr th:only-of-type {\n",
       "        vertical-align: middle;\n",
       "    }\n",
       "\n",
       "    .dataframe tbody tr th {\n",
       "        vertical-align: top;\n",
       "    }\n",
       "\n",
       "    .dataframe thead th {\n",
       "        text-align: right;\n",
       "    }\n",
       "</style>\n",
       "<table border=\"1\" class=\"dataframe\">\n",
       "  <thead>\n",
       "    <tr style=\"text-align: right;\">\n",
       "      <th></th>\n",
       "      <th>full_name</th>\n",
       "      <th>resale_price</th>\n",
       "      <th>registered_year</th>\n",
       "      <th>engine_capacity_cc</th>\n",
       "      <th>insurance</th>\n",
       "      <th>transmission_type</th>\n",
       "      <th>kms_driven</th>\n",
       "      <th>owner_type</th>\n",
       "      <th>fuel_type</th>\n",
       "      <th>max_power</th>\n",
       "      <th>seats</th>\n",
       "      <th>mileage_kmpl</th>\n",
       "      <th>body_type</th>\n",
       "      <th>city</th>\n",
       "    </tr>\n",
       "  </thead>\n",
       "  <tbody>\n",
       "    <tr>\n",
       "      <th>8857</th>\n",
       "      <td>2015 Mahindra e2o T2</td>\n",
       "      <td>₹ 3.35 Lakh</td>\n",
       "      <td>Oct 2015</td>\n",
       "      <td>0</td>\n",
       "      <td>Third Party insurance</td>\n",
       "      <td>Automatic</td>\n",
       "      <td>43064.0</td>\n",
       "      <td>First Owner</td>\n",
       "      <td>Electric</td>\n",
       "      <td>25.5bhp</td>\n",
       "      <td>5.0</td>\n",
       "      <td>120.0</td>\n",
       "      <td>Hatchback</td>\n",
       "      <td>Hyderabad</td>\n",
       "    </tr>\n",
       "  </tbody>\n",
       "</table>\n",
       "</div>"
      ],
      "text/plain": [
       "                 full_name resale_price registered_year  engine_capacity_cc  \\\n",
       "8857  2015 Mahindra e2o T2  ₹ 3.35 Lakh        Oct 2015                   0   \n",
       "\n",
       "                  insurance transmission_type  kms_driven   owner_type  \\\n",
       "8857  Third Party insurance         Automatic     43064.0  First Owner   \n",
       "\n",
       "     fuel_type max_power  seats  mileage_kmpl  body_type       city  \n",
       "8857  Electric   25.5bhp    5.0         120.0  Hatchback  Hyderabad  "
      ]
     },
     "execution_count": 21,
     "metadata": {},
     "output_type": "execute_result"
    }
   ],
   "source": [
    "df[df['engine_capacity_cc'] == 0]"
   ]
  },
  {
   "cell_type": "code",
   "execution_count": 22,
   "metadata": {},
   "outputs": [
    {
     "data": {
      "text/html": [
       "<div>\n",
       "<style scoped>\n",
       "    .dataframe tbody tr th:only-of-type {\n",
       "        vertical-align: middle;\n",
       "    }\n",
       "\n",
       "    .dataframe tbody tr th {\n",
       "        vertical-align: top;\n",
       "    }\n",
       "\n",
       "    .dataframe thead th {\n",
       "        text-align: right;\n",
       "    }\n",
       "</style>\n",
       "<table border=\"1\" class=\"dataframe\">\n",
       "  <thead>\n",
       "    <tr style=\"text-align: right;\">\n",
       "      <th></th>\n",
       "      <th>full_name</th>\n",
       "      <th>resale_price</th>\n",
       "      <th>registered_year</th>\n",
       "      <th>engine_capacity_cc</th>\n",
       "      <th>insurance</th>\n",
       "      <th>transmission_type</th>\n",
       "      <th>kms_driven</th>\n",
       "      <th>owner_type</th>\n",
       "      <th>fuel_type</th>\n",
       "      <th>max_power</th>\n",
       "      <th>seats</th>\n",
       "      <th>mileage_kmpl</th>\n",
       "      <th>body_type</th>\n",
       "      <th>city</th>\n",
       "    </tr>\n",
       "  </thead>\n",
       "  <tbody>\n",
       "    <tr>\n",
       "      <th>8857</th>\n",
       "      <td>2015 Mahindra e2o T2</td>\n",
       "      <td>₹ 3.35 Lakh</td>\n",
       "      <td>Oct 2015</td>\n",
       "      <td>0</td>\n",
       "      <td>Third Party insurance</td>\n",
       "      <td>Automatic</td>\n",
       "      <td>43064.0</td>\n",
       "      <td>First Owner</td>\n",
       "      <td>Electric</td>\n",
       "      <td>25.5bhp</td>\n",
       "      <td>5.0</td>\n",
       "      <td>120.0</td>\n",
       "      <td>Hatchback</td>\n",
       "      <td>Hyderabad</td>\n",
       "    </tr>\n",
       "    <tr>\n",
       "      <th>10558</th>\n",
       "      <td>2017 Mahindra e2o Plus P8</td>\n",
       "      <td>₹ 4.60 Lakh</td>\n",
       "      <td>2017</td>\n",
       "      <td>72</td>\n",
       "      <td>Third Party insurance</td>\n",
       "      <td>Automatic</td>\n",
       "      <td>20000.0</td>\n",
       "      <td>Second Owner</td>\n",
       "      <td>Electric</td>\n",
       "      <td>40bhp</td>\n",
       "      <td>4.0</td>\n",
       "      <td>140.0</td>\n",
       "      <td>Hatchback</td>\n",
       "      <td>Bangalore</td>\n",
       "    </tr>\n",
       "    <tr>\n",
       "      <th>14181</th>\n",
       "      <td>2017 Mahindra e2o Plus P8</td>\n",
       "      <td>₹ 5.50 Lakh</td>\n",
       "      <td>2017</td>\n",
       "      <td>72</td>\n",
       "      <td>Third Party insurance</td>\n",
       "      <td>Automatic</td>\n",
       "      <td>10000.0</td>\n",
       "      <td>First Owner</td>\n",
       "      <td>Electric</td>\n",
       "      <td>40bhp</td>\n",
       "      <td>4.0</td>\n",
       "      <td>140.0</td>\n",
       "      <td>Hatchback</td>\n",
       "      <td>Delhi</td>\n",
       "    </tr>\n",
       "    <tr>\n",
       "      <th>14193</th>\n",
       "      <td>2017 Mahindra e2o Plus P8</td>\n",
       "      <td>₹ 5.50 Lakh</td>\n",
       "      <td>2017</td>\n",
       "      <td>72</td>\n",
       "      <td>Third Party insurance</td>\n",
       "      <td>Automatic</td>\n",
       "      <td>10000.0</td>\n",
       "      <td>First Owner</td>\n",
       "      <td>Electric</td>\n",
       "      <td>40bhp</td>\n",
       "      <td>4.0</td>\n",
       "      <td>140.0</td>\n",
       "      <td>Hatchback</td>\n",
       "      <td>Delhi</td>\n",
       "    </tr>\n",
       "  </tbody>\n",
       "</table>\n",
       "</div>"
      ],
      "text/plain": [
       "                       full_name resale_price registered_year  \\\n",
       "8857        2015 Mahindra e2o T2  ₹ 3.35 Lakh        Oct 2015   \n",
       "10558  2017 Mahindra e2o Plus P8  ₹ 4.60 Lakh            2017   \n",
       "14181  2017 Mahindra e2o Plus P8  ₹ 5.50 Lakh            2017   \n",
       "14193  2017 Mahindra e2o Plus P8  ₹ 5.50 Lakh            2017   \n",
       "\n",
       "       engine_capacity_cc              insurance transmission_type  \\\n",
       "8857                    0  Third Party insurance         Automatic   \n",
       "10558                  72  Third Party insurance         Automatic   \n",
       "14181                  72  Third Party insurance         Automatic   \n",
       "14193                  72  Third Party insurance         Automatic   \n",
       "\n",
       "       kms_driven    owner_type fuel_type max_power  seats  mileage_kmpl  \\\n",
       "8857      43064.0   First Owner  Electric   25.5bhp    5.0         120.0   \n",
       "10558     20000.0  Second Owner  Electric     40bhp    4.0         140.0   \n",
       "14181     10000.0   First Owner  Electric     40bhp    4.0         140.0   \n",
       "14193     10000.0   First Owner  Electric     40bhp    4.0         140.0   \n",
       "\n",
       "       body_type       city  \n",
       "8857   Hatchback  Hyderabad  \n",
       "10558  Hatchback  Bangalore  \n",
       "14181  Hatchback      Delhi  \n",
       "14193  Hatchback      Delhi  "
      ]
     },
     "execution_count": 22,
     "metadata": {},
     "output_type": "execute_result"
    }
   ],
   "source": [
    "df[df['fuel_type'] == 'Electric']"
   ]
  },
  {
   "cell_type": "code",
   "execution_count": 23,
   "metadata": {},
   "outputs": [],
   "source": [
    "df.loc[(df['fuel_type'] == 'Electric') & (df['engine_capacity_cc'].isin([0, 72])), 'engine_capacity_cc'] = np.nan"
   ]
  },
  {
   "cell_type": "code",
   "execution_count": 24,
   "metadata": {},
   "outputs": [
    {
     "data": {
      "text/html": [
       "<div>\n",
       "<style scoped>\n",
       "    .dataframe tbody tr th:only-of-type {\n",
       "        vertical-align: middle;\n",
       "    }\n",
       "\n",
       "    .dataframe tbody tr th {\n",
       "        vertical-align: top;\n",
       "    }\n",
       "\n",
       "    .dataframe thead th {\n",
       "        text-align: right;\n",
       "    }\n",
       "</style>\n",
       "<table border=\"1\" class=\"dataframe\">\n",
       "  <thead>\n",
       "    <tr style=\"text-align: right;\">\n",
       "      <th></th>\n",
       "      <th>full_name</th>\n",
       "      <th>resale_price</th>\n",
       "      <th>registered_year</th>\n",
       "      <th>engine_capacity_cc</th>\n",
       "      <th>insurance</th>\n",
       "      <th>transmission_type</th>\n",
       "      <th>kms_driven</th>\n",
       "      <th>owner_type</th>\n",
       "      <th>fuel_type</th>\n",
       "      <th>max_power</th>\n",
       "      <th>seats</th>\n",
       "      <th>mileage_kmpl</th>\n",
       "      <th>body_type</th>\n",
       "      <th>city</th>\n",
       "    </tr>\n",
       "  </thead>\n",
       "  <tbody>\n",
       "    <tr>\n",
       "      <th>8857</th>\n",
       "      <td>2015 Mahindra e2o T2</td>\n",
       "      <td>₹ 3.35 Lakh</td>\n",
       "      <td>Oct 2015</td>\n",
       "      <td>NaN</td>\n",
       "      <td>Third Party insurance</td>\n",
       "      <td>Automatic</td>\n",
       "      <td>43064.0</td>\n",
       "      <td>First Owner</td>\n",
       "      <td>Electric</td>\n",
       "      <td>25.5bhp</td>\n",
       "      <td>5.0</td>\n",
       "      <td>120.0</td>\n",
       "      <td>Hatchback</td>\n",
       "      <td>Hyderabad</td>\n",
       "    </tr>\n",
       "    <tr>\n",
       "      <th>10558</th>\n",
       "      <td>2017 Mahindra e2o Plus P8</td>\n",
       "      <td>₹ 4.60 Lakh</td>\n",
       "      <td>2017</td>\n",
       "      <td>NaN</td>\n",
       "      <td>Third Party insurance</td>\n",
       "      <td>Automatic</td>\n",
       "      <td>20000.0</td>\n",
       "      <td>Second Owner</td>\n",
       "      <td>Electric</td>\n",
       "      <td>40bhp</td>\n",
       "      <td>4.0</td>\n",
       "      <td>140.0</td>\n",
       "      <td>Hatchback</td>\n",
       "      <td>Bangalore</td>\n",
       "    </tr>\n",
       "    <tr>\n",
       "      <th>14181</th>\n",
       "      <td>2017 Mahindra e2o Plus P8</td>\n",
       "      <td>₹ 5.50 Lakh</td>\n",
       "      <td>2017</td>\n",
       "      <td>NaN</td>\n",
       "      <td>Third Party insurance</td>\n",
       "      <td>Automatic</td>\n",
       "      <td>10000.0</td>\n",
       "      <td>First Owner</td>\n",
       "      <td>Electric</td>\n",
       "      <td>40bhp</td>\n",
       "      <td>4.0</td>\n",
       "      <td>140.0</td>\n",
       "      <td>Hatchback</td>\n",
       "      <td>Delhi</td>\n",
       "    </tr>\n",
       "    <tr>\n",
       "      <th>14193</th>\n",
       "      <td>2017 Mahindra e2o Plus P8</td>\n",
       "      <td>₹ 5.50 Lakh</td>\n",
       "      <td>2017</td>\n",
       "      <td>NaN</td>\n",
       "      <td>Third Party insurance</td>\n",
       "      <td>Automatic</td>\n",
       "      <td>10000.0</td>\n",
       "      <td>First Owner</td>\n",
       "      <td>Electric</td>\n",
       "      <td>40bhp</td>\n",
       "      <td>4.0</td>\n",
       "      <td>140.0</td>\n",
       "      <td>Hatchback</td>\n",
       "      <td>Delhi</td>\n",
       "    </tr>\n",
       "  </tbody>\n",
       "</table>\n",
       "</div>"
      ],
      "text/plain": [
       "                       full_name resale_price registered_year  \\\n",
       "8857        2015 Mahindra e2o T2  ₹ 3.35 Lakh        Oct 2015   \n",
       "10558  2017 Mahindra e2o Plus P8  ₹ 4.60 Lakh            2017   \n",
       "14181  2017 Mahindra e2o Plus P8  ₹ 5.50 Lakh            2017   \n",
       "14193  2017 Mahindra e2o Plus P8  ₹ 5.50 Lakh            2017   \n",
       "\n",
       "       engine_capacity_cc              insurance transmission_type  \\\n",
       "8857                  NaN  Third Party insurance         Automatic   \n",
       "10558                 NaN  Third Party insurance         Automatic   \n",
       "14181                 NaN  Third Party insurance         Automatic   \n",
       "14193                 NaN  Third Party insurance         Automatic   \n",
       "\n",
       "       kms_driven    owner_type fuel_type max_power  seats  mileage_kmpl  \\\n",
       "8857      43064.0   First Owner  Electric   25.5bhp    5.0         120.0   \n",
       "10558     20000.0  Second Owner  Electric     40bhp    4.0         140.0   \n",
       "14181     10000.0   First Owner  Electric     40bhp    4.0         140.0   \n",
       "14193     10000.0   First Owner  Electric     40bhp    4.0         140.0   \n",
       "\n",
       "       body_type       city  \n",
       "8857   Hatchback  Hyderabad  \n",
       "10558  Hatchback  Bangalore  \n",
       "14181  Hatchback      Delhi  \n",
       "14193  Hatchback      Delhi  "
      ]
     },
     "execution_count": 24,
     "metadata": {},
     "output_type": "execute_result"
    }
   ],
   "source": [
    "df[df['fuel_type'] == 'Electric']"
   ]
  },
  {
   "cell_type": "code",
   "execution_count": 25,
   "metadata": {},
   "outputs": [],
   "source": [
    "df.dropna(inplace=True)"
   ]
  },
  {
   "cell_type": "markdown",
   "metadata": {},
   "source": [
    "#### Analisando e posteriormente convertendo a coluna de registered_year para inteiro de forma que permaneça somente o ano "
   ]
  },
  {
   "cell_type": "code",
   "execution_count": 26,
   "metadata": {},
   "outputs": [
    {
     "data": {
      "text/plain": [
       "array(['2017', '2018', '2015', '2009', '2010', '2016', '2014', '2020',\n",
       "       '2021', '2019', '2011', '2012', '2013', '2022', '2004', 'Dec 2018',\n",
       "       'Jun 2018', 'Mar 2016', 'Feb 2018', 'Oct 2014', 'Mar 2014',\n",
       "       'Feb 2013', 'Aug 2018', 'Jun 2019', 'Dec 2021', 'Apr 2019',\n",
       "       'May 2018', 'Nov 2013', 'Sept 2022', 'Jan 2021', 'Sept 2020',\n",
       "       'Jan 2015', 'Oct 2017', 'Sept 2019', 'Jul 2019', 'Mar 2020',\n",
       "       'Jan 2018', 'Nov 2015', 'May 2015', 'Dec 2014', 'Feb 2019',\n",
       "       'May 2016', 'Apr 2018', 'May 2021', '2008', 'Mar 2022', 'Jun 2016',\n",
       "       'Jun 2017', 'Jul 2016', 'Jun 2015', 'Sept 2018', 'Nov 2018',\n",
       "       'Aug 2019', 'Jun 2021', '2006', 'Jan 2017', 'Aug 2014', 'Jul 2013',\n",
       "       'Jul 2017', 'Dec 2013', 'Sept 2016', 'Mar 2017', 'Feb 2020',\n",
       "       'Oct 2018', 'May 2014', 'Aug 2021', 'Aug 2020', 'Mar 2019',\n",
       "       'Jan 2016', 'Feb 2016', 'Oct 2015', 'May 2019', 'Dec 2012',\n",
       "       'Nov 2021', 'Mar 2018', 'Nov 2019', 'Aug 2017', 'Feb 2014',\n",
       "       'Feb 2021', 'Mar 2021', 'Aug 2016', 'Dec 2016', 'Jan 2020',\n",
       "       'Sept 2017', 'Apr 2021', 'Apr 2017', 'Jun 2013', 'Dec 2017',\n",
       "       '2023', 'Jun 2022', 'Apr 2015', 'Jul 2018', 'Nov 2020', 'Oct 2020',\n",
       "       'Jul 2020', 'May 2020', 'Apr 2022', 'Dec 2020', 'Jul 2014',\n",
       "       'Mar 2015', 'Dec 2019', 'Oct 2019', 'Feb 2015', 'Jul 2021',\n",
       "       'May 2017', 'May 2013', 'Dec 2015', 'Feb 2022', 'Oct 2016',\n",
       "       'Jan 2022', 'Oct 2021', 'Jun 2020', 'Oct 2011', '2003', 'Oct 2022',\n",
       "       'Aug 2013', 'May 2011', 'Jan 2014', 'Jun 2014', 'May 2007',\n",
       "       'Sept 2013', 'Feb 2017', 'May 2012', 'Jul 2015', 'Jun 2008',\n",
       "       'Sept 2021', 'Mar 2009', 'Dec 2006', 'Dec 2010', 'Jan 2010',\n",
       "       'Apr 2008', 'Jul 2011', 'Mar 2011', 'Jun 2012', 'Nov 2012',\n",
       "       'Dec 2009', 'Jan 2023', 'Feb 2011', 'Nov 2014', 'Jan 2012',\n",
       "       'Jul 2012', 'Nov 2011', 'Sept 2009', 'Jan 2011', 'Feb 2012',\n",
       "       'Apr 2009', 'Apr 2016', 'Jan 2013', 'Apr 2014', 'Jul 2022',\n",
       "       'Nov 2022', 'Nov 2016', '1986', 'May 2022', 'Apr 2020', 'Jul 2023',\n",
       "       'Mar 2023', 'Nov 2017', 'Apr 2013', 'Sept 2012', 'Jan 2019',\n",
       "       'Dec 2022', 'Jul 2010', 'Sept 2015', 'Aug 2022', '2000',\n",
       "       'May 2010', 'Jul 2006', 'Nov 2008', 'Sept 2014', 'Oct 2010',\n",
       "       'Apr 2012', 'Oct 2013', 'Jul 2008', 'Apr 2011', 'Aug 2011',\n",
       "       'Feb 2002', 'Aug 2005', 'Feb 2008', 'May 2006', 'Mar 2010',\n",
       "       'Feb 2010', 'Aug 2008', 'Mar 2008', 'Jun 2011', 'Aug 2010',\n",
       "       'Mar 2013', 'Jan 2008', 'Jul 2007', 'Oct 2012', 'Jun 2009',\n",
       "       'Feb 2007', 'Sept 2010', 'Jul 2009', 'Aug 2015', 'Dec 2011',\n",
       "       'Aug 2003', '2007', 'Mar 2012', 'Apr 2010', 'Nov 2010', 'Aug 2012',\n",
       "       'Jan 2005', 'May 2009', 'Jun 2010', 'Aug 2009', 'Jul 2003',\n",
       "       'Mar 2003', 'Jan 2009', 'Jun 2007', '1999', 'Feb 2023', 'Jun 2023',\n",
       "       'Oct 2007', '2005', 'Sept 2011', '1998', 'May 2023', 'Oct 2009',\n",
       "       'Dec 2003', '2002', 'Feb 2009', 'Oct 2008', 'Sept 2008',\n",
       "       'Nov 2009', 'Aug 2023', 'Dec 2008', 'May 2008', 'Jun 2006',\n",
       "       'Jan 2006', '1985', '2001', 'Jul 2004', 'Dec 2004', 'Aug 2006',\n",
       "       'Aug 2007', '1997', 'Apr 2023', 'Apr 2007', 'Feb 2006', 'Nov 2007',\n",
       "       'Jul 2005'], dtype=object)"
      ]
     },
     "execution_count": 26,
     "metadata": {},
     "output_type": "execute_result"
    }
   ],
   "source": [
    "df['registered_year'].unique()"
   ]
  },
  {
   "cell_type": "code",
   "execution_count": 27,
   "metadata": {},
   "outputs": [],
   "source": [
    "def converter_coluna_registered_year(x):\n",
    "    if 'Jan' in x:\n",
    "        return int(x.replace('Jan', '').strip())\n",
    "    elif 'Feb' in x:\n",
    "        return int(x.replace('Feb', '').strip())\n",
    "    elif 'Mar' in x:\n",
    "        return int(x.replace('Mar', '').strip())\n",
    "    elif 'Apr' in x:\n",
    "        return int(x.replace('Apr', '').strip())\n",
    "    elif 'May' in x: \n",
    "        return int(x.replace('May', '').strip())\n",
    "    elif 'Jun' in x: \n",
    "        return int(x.replace('Jun', '').strip())\n",
    "    elif 'Jul' in x:\n",
    "        return int(x.replace('Jul', '').strip()) \n",
    "    elif 'Aug' in x: \n",
    "        return int(x.replace('Aug', '').strip())\n",
    "    elif 'Sept' in x: \n",
    "        return int(x.replace('Sept', '').strip())\n",
    "    elif 'Oct' in x: \n",
    "        return int(x.replace('Oct', '').strip())\n",
    "    elif 'Nov' in x: \n",
    "        return int(x.replace('Nov', '').strip())\n",
    "    elif 'Dec' in x:\n",
    "        return int(x.replace('Dec', '').strip())\n",
    "    else:\n",
    "        return int(x)\n",
    "\n",
    "df['registered_year'] = df['registered_year'].apply(converter_coluna_registered_year)"
   ]
  },
  {
   "cell_type": "code",
   "execution_count": 28,
   "metadata": {},
   "outputs": [
    {
     "data": {
      "text/plain": [
       "array([2017, 2018, 2015, 2009, 2010, 2016, 2014, 2020, 2021, 2019, 2011,\n",
       "       2012, 2013, 2022, 2004, 2008, 2006, 2023, 2003, 2007, 1986, 2000,\n",
       "       2002, 2005, 1999, 1998, 1985, 2001, 1997])"
      ]
     },
     "execution_count": 28,
     "metadata": {},
     "output_type": "execute_result"
    }
   ],
   "source": [
    "df['registered_year'].unique()"
   ]
  },
  {
   "cell_type": "markdown",
   "metadata": {},
   "source": [
    "#### Convertendo a coluna de resale_price para float e normalizando a coluna para Rupias Indianas (inr)"
   ]
  },
  {
   "cell_type": "code",
   "execution_count": 29,
   "metadata": {},
   "outputs": [
    {
     "data": {
      "text/plain": [
       "array(['₹ 5.45 Lakh', '₹ 10 Lakh', '₹ 4.50 Lakh', ..., '₹ 11.29 Lakh',\n",
       "       '₹ 1.57 Crore', '₹ 27.25 Lakh'], shape=(1671,), dtype=object)"
      ]
     },
     "execution_count": 29,
     "metadata": {},
     "output_type": "execute_result"
    }
   ],
   "source": [
    "df['resale_price'].unique()\n",
    "# Crore = 10.000.000\n",
    "# Lakh = 100.000"
   ]
  },
  {
   "cell_type": "code",
   "execution_count": 30,
   "metadata": {},
   "outputs": [
    {
     "data": {
      "text/plain": [
       "1476    ₹ 2.25 Crore\n",
       "Name: resale_price, dtype: object"
      ]
     },
     "execution_count": 30,
     "metadata": {},
     "output_type": "execute_result"
    }
   ],
   "source": [
    "df['resale_price'].loc[df['resale_price'] == '₹ 2.25 Crore']"
   ]
  },
  {
   "cell_type": "code",
   "execution_count": 31,
   "metadata": {},
   "outputs": [],
   "source": [
    "def converter_preco(x):\n",
    "    if '₹' in x and 'Lakh' in x:\n",
    "        return float(x.replace('₹', '').replace('Lakh', '').replace(',', '.').strip()) * 100000\n",
    "    elif '₹' in x and 'Crore' in x:\n",
    "        return float(x.replace('₹', '').replace('Crore', '').replace(',', '.').strip()) * 10000000\n",
    "    else:\n",
    "        return float(x.replace('₹', '').replace(',', '.').strip())\n",
    "    \n",
    "df['resale_price'] = df['resale_price'].apply(converter_preco)\n",
    "df.rename(columns={'resale_price': 'resale_price_inr'}, inplace=True) # inr para dizer que está em rupias indianas"
   ]
  },
  {
   "cell_type": "code",
   "execution_count": 32,
   "metadata": {},
   "outputs": [
    {
     "data": {
      "text/plain": [
       "array([  545000.,  1000000.,   450000., ...,  1129000., 15700000.,\n",
       "        2725000.], shape=(1671,))"
      ]
     },
     "execution_count": 32,
     "metadata": {},
     "output_type": "execute_result"
    }
   ],
   "source": [
    "df['resale_price_inr'].unique()"
   ]
  },
  {
   "cell_type": "code",
   "execution_count": 33,
   "metadata": {},
   "outputs": [
    {
     "data": {
      "text/html": [
       "<div>\n",
       "<style scoped>\n",
       "    .dataframe tbody tr th:only-of-type {\n",
       "        vertical-align: middle;\n",
       "    }\n",
       "\n",
       "    .dataframe tbody tr th {\n",
       "        vertical-align: top;\n",
       "    }\n",
       "\n",
       "    .dataframe thead th {\n",
       "        text-align: right;\n",
       "    }\n",
       "</style>\n",
       "<table border=\"1\" class=\"dataframe\">\n",
       "  <thead>\n",
       "    <tr style=\"text-align: right;\">\n",
       "      <th></th>\n",
       "      <th>full_name</th>\n",
       "      <th>resale_price_inr</th>\n",
       "      <th>registered_year</th>\n",
       "      <th>engine_capacity_cc</th>\n",
       "      <th>insurance</th>\n",
       "      <th>transmission_type</th>\n",
       "      <th>kms_driven</th>\n",
       "      <th>owner_type</th>\n",
       "      <th>fuel_type</th>\n",
       "      <th>max_power</th>\n",
       "      <th>seats</th>\n",
       "      <th>mileage_kmpl</th>\n",
       "      <th>body_type</th>\n",
       "      <th>city</th>\n",
       "    </tr>\n",
       "  </thead>\n",
       "  <tbody>\n",
       "    <tr>\n",
       "      <th>1476</th>\n",
       "      <td>2021 Mercedes-Benz G G 350d</td>\n",
       "      <td>22500000.0</td>\n",
       "      <td>2021</td>\n",
       "      <td>2925.0</td>\n",
       "      <td>Comprehensive</td>\n",
       "      <td>Automatic</td>\n",
       "      <td>36000.0</td>\n",
       "      <td>First Owner</td>\n",
       "      <td>Diesel</td>\n",
       "      <td>281.61bhp</td>\n",
       "      <td>5.0</td>\n",
       "      <td>8.13</td>\n",
       "      <td>SUV</td>\n",
       "      <td>Delhi</td>\n",
       "    </tr>\n",
       "  </tbody>\n",
       "</table>\n",
       "</div>"
      ],
      "text/plain": [
       "                        full_name  resale_price_inr  registered_year  \\\n",
       "1476  2021 Mercedes-Benz G G 350d        22500000.0             2021   \n",
       "\n",
       "      engine_capacity_cc      insurance transmission_type  kms_driven  \\\n",
       "1476              2925.0  Comprehensive         Automatic     36000.0   \n",
       "\n",
       "       owner_type fuel_type  max_power  seats  mileage_kmpl body_type   city  \n",
       "1476  First Owner    Diesel  281.61bhp    5.0          8.13       SUV  Delhi  "
      ]
     },
     "execution_count": 33,
     "metadata": {},
     "output_type": "execute_result"
    }
   ],
   "source": [
    "df.loc[df['resale_price_inr'] == 22500000.0]"
   ]
  },
  {
   "cell_type": "markdown",
   "metadata": {},
   "source": [
    "#### Convertendo para float e normalizando toda a coluna de max_power para bhp (brake horse power)"
   ]
  },
  {
   "cell_type": "code",
   "execution_count": 34,
   "metadata": {},
   "outputs": [
    {
     "data": {
      "text/plain": [
       "array(['83.1bhp', '153.86bhp', '83.14bhp', '68.05bhp', '81.86bhp',\n",
       "       '69bhp', '73bhp', '86.7bhp', '103.25bhp', '98.6bhp', '89bhp',\n",
       "       '67.1bhp', '58.16bhp', '88.7bhp', '87.2bhp', '118.36bhp',\n",
       "       '89.84bhp', '170PS', '74bhp', '81.80bhp', '47.3bhp', '67.04bhp',\n",
       "       '82bhp', '140bhp', '138.1bhp', '84bhp', '88.5bhp', '88.50bhp',\n",
       "       '65.71bhp', '47.33bhp', '100.6bhp', '102', '90 PS', '73.97bhp',\n",
       "       '61.7bhp', '147.51bhp', '73.9bhp', '62.1bhp', '78.9bhp',\n",
       "       '108.62bhp', '167.67bhp', '55.2bhp', '86.63bhp', '88bhp',\n",
       "       '67.06bhp', '83.8bhp', '113.43bhp', '74.02bhp', '67.05bhp',\n",
       "       '67bhp', '63PS at 5,400 rpm', '98.96bhp', '97.9bhp', '58.2bhp',\n",
       "       '53.3bhp', '62bhp', '70bhp', '103.3bhp', '120bhp (86.7kw)',\n",
       "       '118.35bhp', '75 PS at 4000 rpm', '152.87bhp', '57.6bhp', '99bhp',\n",
       "       '138bhp', '141bhp', '108.5bhp', '86.8bhp', '78 kW', '105.94bhp',\n",
       "       '118PS at 6,600 rpm', '72bhp', '61.68bhp', '108.45bhp', '88.73bhp',\n",
       "       '74.96bhp', '126.2bhp', '68', '81.83bhp', '160.77bhp', '98.63bhp',\n",
       "       '79.4bhp', '77bhp', '71.02bhp', '108.49bhp', '88.8bhp',\n",
       "       '174.33bhp', '80 PS at 5200 rpm', '152 PS', '75bhp', '130bhp',\n",
       "       '66.1bhp', '103.26bhp', '170', '85ps', '80', '126.32bhp',\n",
       "       '254.7bhp', '187.74bhp', '204bhp', '241.4bhp', '186bhp', '150bhp',\n",
       "       '181bhp', '443.87bhp', '188bhp', '167.62bhp', '241.3bhp', '143bhp',\n",
       "       '85.8bhp', '72.40bhp', '71.01bhp', '98.59bhp', '136bhp',\n",
       "       '97.89bhp', '100', '130.2bhp', '88.76bhp', '121.3bhp', '108.6bhp',\n",
       "       '40.3bhp', '37.48bhp', '103.5bhp', '155bhp', '100bhp', '102.5bhp',\n",
       "       '147.94bhp', '113.98bhp', '83.83bhp', '53.26bhp', '55.92bhp',\n",
       "       '113.45bhp', '116.3bhp', '58bhp', '174.5bhp', '119.35bhp',\n",
       "       '73.94bhp', '91.1bhp', '117.3bhp', '121bhp', '113.42bhp',\n",
       "       '58.33bhp', '71 PS at 4500 rpm', '168.5bhp', '70', '59.17bhp',\n",
       "       '138.03bhp', '72.41bhp', '120bhp', '103.52bhp', '117.6bhp',\n",
       "       '105bhp', '84.82bhp', '158.2bhp', '118.41bhp', '73.75bhp',\n",
       "       '184bhp', '46.3bhp', '197bhp', '68bhp', '70.02bhp', '103.2bhp',\n",
       "       '86.83bhp', '108.495bhp', '40.36bhp', '88.77bhp', '167.68bhp',\n",
       "       '74.93bhp', '104.55bhp', '101.65bhp', '70.40Bhp', '37bhp', '45bhp',\n",
       "       '83.81bhp', '65', '109PS', '84.8bhp', '112bhp at 3800 rpm',\n",
       "       '69.01bhp', '116.6', '138.05bhp', '126.3bhp', '178.3bhp', '148bhp',\n",
       "       '93.87bhp', '78.8bhp', '169bhp', '64.1bhp', '194.3bhp', '201.1bhp',\n",
       "       '254.79bhp', '306bhp', '261.49bhp', '360bhp', '147.5bhp', '252bhp',\n",
       "       '194bhp', '177bhp', '201.15bhp', '191.76bhp', '280bhp',\n",
       "       '335.25bhp', '84.48bhp', '110bhp', '245bhp', '258bhp', '212.55bhp',\n",
       "       '105', '221.3bhp', '171 PS', '138.08bhp', '453.26bhp', '215.01bhp',\n",
       "       '78', '86.80bhp', '82.9bhp', '395bhp', '91.7bhp', '194.4bhp',\n",
       "       '115.05bhp', '150.19bhp', '90(66)', '257.47bhp', '197.26bhp',\n",
       "       '105 PS at 5250 rpm', '76.43bhp', '261.4bhp', '157.75bhp',\n",
       "       '113.18bhp', '158bhp', '248bhp', '93.7bhp', '190bhp', '177.6bhp',\n",
       "       '75.10bhp', '163.7bhp', '170bhp', '53.64bhp', '75 PS', '171.5bhp',\n",
       "       '103.6bhp', '104.5bhp', '85.80bhp', '147.9bhp', '60 PS',\n",
       "       '120.7bhp', '92', '170.63bhp', '112bhp', '88.2', '110', '82.9',\n",
       "       '75PS', '191.7bhp', '140', '65 PS at 5500 rpm', '104.68',\n",
       "       '97.7bhp', '90PS at 4000rpm', '187.7bhp', '157.8bhp', '134bhp',\n",
       "       '103bhp', '121.31bhp', '254.8bhp', '281.61bhp', '261.50bhp',\n",
       "       '157.7bhp', '241.38bhp', '55 Bhp', '320bhp', '248.08bhp',\n",
       "       '237.36bhp', '110.4bhp', '214.5bhp', '121.36bhp', '183bhp',\n",
       "       '384.87bhp', '336bhp', '333bhp', '189.08bhp', '134.1bhp',\n",
       "       '136.78bhp', '246.74bhp', '175.56bhp', '503bhp', '174.3bhp',\n",
       "       '116.4bhp', '107.2bhp', '83.11bhp', '82.85bhp', '148.31bhp', '94',\n",
       "       '144', '103.2 PS at 5500 RPM', '126.24bhp', '178bhp', '83 PS',\n",
       "       '160bhp', '158.8bhp', '107.3bhp', '187.4bhp', '35 bhp', '105PS',\n",
       "       '74.9bhp', '68.1bhp', '115bhp', '141.1bhp', '59bhp',\n",
       "       '75 bhp at 5400 rpm', '57.5', '63 HP at 3200 rpm', '56.3bhp',\n",
       "       '63bhp', '34.2bhp', '100.5bhp', '106', '64', '32.8bhp', '167.6bhp',\n",
       "       '76.8bhp', '123.37bhp', '63.12bhp', '103.39bhp', '203.2bhp',\n",
       "       '178.49bhp', '63', '102.57bhp', '91.72bhp', '138.13bhp',\n",
       "       '120.96bhp', '218bhp', '100.57bhp', '301.73bhp', '147.8bhp',\n",
       "       '75.09bhp', '105.5bhp', '75.94bhp', '197.13bhp', '68.07bhp',\n",
       "       '117.60bhp', '149.92bhp', '47', '154bhp', '71bhp', '164.7bhp',\n",
       "       '335.26bhp', '64bhp', '37.5bhp', '90bhp', '69.04bhp',\n",
       "       '132/4000-6000', '181.03bhp', '35', '120.69bhp', '174.33',\n",
       "       '86.79bhp', '235bhp', '147.52bhp', '86.76bhp', '101', '177.46bhp',\n",
       "       '120.3bhp', '173bhp', '89.75bhp', '97.64bhp', '91.18bhp',\n",
       "       '79.65bhp', '139.46bhp', '82.5bhp', '215bhp', '113.4bhp',\n",
       "       '178.4bhp', '140.8bhp', '272bhp', '92.7bhp', '156.82bhp', '168bhp',\n",
       "       '558bhp', '247bhp', '375.5bhp', '265bhp', '203bhp', '59.18bhp',\n",
       "       '313bhp', '84.88bhp', '108.50bhp', '98.82bhp', '38.4bhp',\n",
       "       '94.68bhp', '123.24bhp', '125', '35 Bhp', '208bhp', '121.4bhp',\n",
       "       '63 PS', '152.88bhp', '61 PS', '163.2', '110 PS at 4000 RPM',\n",
       "       '179.5bhp', '70.67bhp', '182.46bhp', '240bhp', '177.5bhp',\n",
       "       '63.1bhp', '168.7bhp', '197.2bhp', '130.3bhp', '367bhp', '76bhp',\n",
       "       '97.6bhp', '71 PS', '153.87bhp', '180', '235', '103.2', '112.4bhp',\n",
       "       '156.9bhp', '160 BHP', '94.93bhp', '101.64bhp', '114bhp', '53.5',\n",
       "       '335.2bhp', '82.4bhp', '258', '84bhp3750rpm', '108.48bhp',\n",
       "       '163.60bhp', '231.78bhp', '98bhp', '151.89bhp', '210', '187.40bhp',\n",
       "       '153.866bhp', '99.61bhp', '106 bhp', '241.39bhp', '335.2', '177',\n",
       "       '214.56bhp', '181.04bhp', '175bhp', '100PS at 5,500rpm',\n",
       "       '246.7bhp', '150 ps 3850 rpm', '66.6', '98.5bhp', '91.19bhp',\n",
       "       '95.48bhp', '48.21bhp', '100 bhp', '75PS at 4000rpm', '99.23bhp',\n",
       "       '150 kW at 6300 rpm', '80.46bhp', '85 PS at 6000rpm', '271.3bhp',\n",
       "       '167.7bhp', '115 PS', '66.7', '210bhp', '70 bhp at 5400 rpm',\n",
       "       '58.3bhp', '198.25bhp', '32.5bhp', '321bhp', '380bhp', '502.8bhp',\n",
       "       '185bhp', '80.84bhp', '157.57bhp', '82 PS', '112.44bhp', '85',\n",
       "       '96.55bhp', '104 PS', '66(90) / 4000', '61.6bhp', '270.9bhp',\n",
       "       '52.8bhp', '163bhp', '271.2bhp', '73.8bhp', '118.6', '140PS',\n",
       "       '80bhp', '241.6bhp', '178', '110(150)/5700', '134hp', '91.2bhp',\n",
       "       '118.3bhp', '300bhp', '255bhp', '241.7bhp', '134.10bhp',\n",
       "       '167.63bhp', '65.39bhp', '118bhp', '88 PS', '138.12bhp', '85.7bhp',\n",
       "       '72.4bhp', '75', '93 PS', '102.53bhp', '161.6', '112.2', '260.0',\n",
       "       '94 bhp', '379.7bhp', '70 bhp at 4000 rpm', '120', '218', '57',\n",
       "       '53 PS', '65bhp', '180kw', '236bhp', '179.5', '270.88bhp',\n",
       "       '162bhp', '53bhp', '99.6bhp', '150', '98.79bhp', '303.7bhp',\n",
       "       '83.1', '76', '147.4bhp', '237bhp', '200bhp', '328.5bhp',\n",
       "       '114.4bhp', '362.9bhp', '194.44bhp', '400bhp', '153.8bhp',\n",
       "       '442.53bhp', '138.02bhp', '224bhp', '132PS', '80.9bhp', '215',\n",
       "       '268bhp', '282bhp', '76.9bhp', '375.48bhp', '189.3bhp',\n",
       "       '174.57bhp', '421bhp', '335.3bhp', '296bhp', '231.1', '271.23bhp',\n",
       "       '160.92bhp', '469bhp', '382bhp', '170hp', '73.74bhp', '308bhp',\n",
       "       '198.5', '552bhp', '237.4bhp', '296.36bhp', '110.5bhp', '294.9bhp',\n",
       "       '122bhp', '98.56bhp', '170.6bhp', '65.03bhp', '245.59bhp', '64.9',\n",
       "       '92bhp', '500bhp', '194.37bhp', '420bhp'], dtype=object)"
      ]
     },
     "execution_count": 34,
     "metadata": {},
     "output_type": "execute_result"
    }
   ],
   "source": [
    "df['max_power'].unique()\n",
    "# bhp (brake horse power) é uma medida quase equivalente a horse power, no entanto ela é feita diretamente no eixo (evitando perdas de transmissão, atrito, entre outros)"
   ]
  },
  {
   "cell_type": "code",
   "execution_count": 35,
   "metadata": {},
   "outputs": [],
   "source": [
    "def converter_coluna_max_power(x):\n",
    "    x = str(x).lower()\n",
    "    if 'bhp' in x:\n",
    "        return float(x.split('bhp')[0].replace('bhp', '').strip())\n",
    "    elif 'hp' in x:\n",
    "        return float(x.split('hp')[0].replace('hp', '').strip())\n",
    "    elif 'ps' in x:\n",
    "        return float(x.split()[0].replace('ps', '').strip()) * 0.98632\n",
    "    elif 'kw' in x:\n",
    "        return float(x.split()[0].replace('kw', '').strip()) * 1.34102209\n",
    "    elif '(' in x:\n",
    "        return float(x.split('(')[0].strip())\n",
    "    elif '/' in x:\n",
    "        return float(x.split('/')[0].strip())\n",
    "    else:\n",
    "        return float(x.strip())\n",
    "\n",
    "df['max_power'] = df['max_power'].apply(converter_coluna_max_power)\n",
    "df.rename(columns={'max_power': 'max_power_bhp'}, inplace=True)"
   ]
  },
  {
   "cell_type": "code",
   "execution_count": 36,
   "metadata": {},
   "outputs": [
    {
     "data": {
      "text/plain": [
       "count    16804.000000\n",
       "mean       102.763233\n",
       "std         43.612411\n",
       "min         32.500000\n",
       "25%         78.900000\n",
       "50%         88.500000\n",
       "75%        117.600000\n",
       "max        558.000000\n",
       "Name: max_power_bhp, dtype: float64"
      ]
     },
     "execution_count": 36,
     "metadata": {},
     "output_type": "execute_result"
    }
   ],
   "source": [
    "df['max_power_bhp'].describe()"
   ]
  },
  {
   "cell_type": "markdown",
   "metadata": {},
   "source": [
    "### Fim do tratamento e normalização da tabela"
   ]
  },
  {
   "cell_type": "code",
   "execution_count": 37,
   "metadata": {},
   "outputs": [
    {
     "data": {
      "text/html": [
       "<div>\n",
       "<style scoped>\n",
       "    .dataframe tbody tr th:only-of-type {\n",
       "        vertical-align: middle;\n",
       "    }\n",
       "\n",
       "    .dataframe tbody tr th {\n",
       "        vertical-align: top;\n",
       "    }\n",
       "\n",
       "    .dataframe thead th {\n",
       "        text-align: right;\n",
       "    }\n",
       "</style>\n",
       "<table border=\"1\" class=\"dataframe\">\n",
       "  <thead>\n",
       "    <tr style=\"text-align: right;\">\n",
       "      <th></th>\n",
       "      <th>full_name</th>\n",
       "      <th>resale_price_inr</th>\n",
       "      <th>registered_year</th>\n",
       "      <th>engine_capacity_cc</th>\n",
       "      <th>insurance</th>\n",
       "      <th>transmission_type</th>\n",
       "      <th>kms_driven</th>\n",
       "      <th>owner_type</th>\n",
       "      <th>fuel_type</th>\n",
       "      <th>max_power_bhp</th>\n",
       "      <th>seats</th>\n",
       "      <th>mileage_kmpl</th>\n",
       "      <th>body_type</th>\n",
       "      <th>city</th>\n",
       "    </tr>\n",
       "  </thead>\n",
       "  <tbody>\n",
       "    <tr>\n",
       "      <th>0</th>\n",
       "      <td>2017 Maruti Baleno 1.2 Alpha</td>\n",
       "      <td>545000.0</td>\n",
       "      <td>2017</td>\n",
       "      <td>1197.0</td>\n",
       "      <td>Third Party insurance</td>\n",
       "      <td>Manual</td>\n",
       "      <td>40000.0</td>\n",
       "      <td>First Owner</td>\n",
       "      <td>Petrol</td>\n",
       "      <td>83.10</td>\n",
       "      <td>5.0</td>\n",
       "      <td>21.40</td>\n",
       "      <td>Hatchback</td>\n",
       "      <td>Agra</td>\n",
       "    </tr>\n",
       "    <tr>\n",
       "      <th>1</th>\n",
       "      <td>2018 Tata Hexa XTA</td>\n",
       "      <td>1000000.0</td>\n",
       "      <td>2018</td>\n",
       "      <td>2179.0</td>\n",
       "      <td>Third Party insurance</td>\n",
       "      <td>Automatic</td>\n",
       "      <td>70000.0</td>\n",
       "      <td>First Owner</td>\n",
       "      <td>Diesel</td>\n",
       "      <td>153.86</td>\n",
       "      <td>7.0</td>\n",
       "      <td>17.60</td>\n",
       "      <td>MUV</td>\n",
       "      <td>Agra</td>\n",
       "    </tr>\n",
       "    <tr>\n",
       "      <th>2</th>\n",
       "      <td>2015 Maruti Swift Dzire VXI</td>\n",
       "      <td>450000.0</td>\n",
       "      <td>2015</td>\n",
       "      <td>1197.0</td>\n",
       "      <td>Third Party insurance</td>\n",
       "      <td>Manual</td>\n",
       "      <td>70000.0</td>\n",
       "      <td>Second Owner</td>\n",
       "      <td>Petrol</td>\n",
       "      <td>83.14</td>\n",
       "      <td>5.0</td>\n",
       "      <td>20.85</td>\n",
       "      <td>Sedan</td>\n",
       "      <td>Agra</td>\n",
       "    </tr>\n",
       "    <tr>\n",
       "      <th>3</th>\n",
       "      <td>2015 Maruti Swift Dzire VXI</td>\n",
       "      <td>450000.0</td>\n",
       "      <td>2015</td>\n",
       "      <td>1197.0</td>\n",
       "      <td>Third Party insurance</td>\n",
       "      <td>Manual</td>\n",
       "      <td>70000.0</td>\n",
       "      <td>Second Owner</td>\n",
       "      <td>Petrol</td>\n",
       "      <td>83.14</td>\n",
       "      <td>5.0</td>\n",
       "      <td>20.85</td>\n",
       "      <td>Sedan</td>\n",
       "      <td>Agra</td>\n",
       "    </tr>\n",
       "    <tr>\n",
       "      <th>4</th>\n",
       "      <td>2009 Hyundai i10 Magna 1.1</td>\n",
       "      <td>160000.0</td>\n",
       "      <td>2009</td>\n",
       "      <td>1086.0</td>\n",
       "      <td>Third Party insurance</td>\n",
       "      <td>Manual</td>\n",
       "      <td>80000.0</td>\n",
       "      <td>First Owner</td>\n",
       "      <td>Petrol</td>\n",
       "      <td>68.05</td>\n",
       "      <td>5.0</td>\n",
       "      <td>19.81</td>\n",
       "      <td>Hatchback</td>\n",
       "      <td>Agra</td>\n",
       "    </tr>\n",
       "  </tbody>\n",
       "</table>\n",
       "</div>"
      ],
      "text/plain": [
       "                      full_name  resale_price_inr  registered_year  \\\n",
       "0  2017 Maruti Baleno 1.2 Alpha          545000.0             2017   \n",
       "1            2018 Tata Hexa XTA         1000000.0             2018   \n",
       "2   2015 Maruti Swift Dzire VXI          450000.0             2015   \n",
       "3   2015 Maruti Swift Dzire VXI          450000.0             2015   \n",
       "4    2009 Hyundai i10 Magna 1.1          160000.0             2009   \n",
       "\n",
       "   engine_capacity_cc              insurance transmission_type  kms_driven  \\\n",
       "0              1197.0  Third Party insurance            Manual     40000.0   \n",
       "1              2179.0  Third Party insurance         Automatic     70000.0   \n",
       "2              1197.0  Third Party insurance            Manual     70000.0   \n",
       "3              1197.0  Third Party insurance            Manual     70000.0   \n",
       "4              1086.0  Third Party insurance            Manual     80000.0   \n",
       "\n",
       "     owner_type fuel_type  max_power_bhp  seats  mileage_kmpl  body_type  city  \n",
       "0   First Owner    Petrol          83.10    5.0         21.40  Hatchback  Agra  \n",
       "1   First Owner    Diesel         153.86    7.0         17.60        MUV  Agra  \n",
       "2  Second Owner    Petrol          83.14    5.0         20.85      Sedan  Agra  \n",
       "3  Second Owner    Petrol          83.14    5.0         20.85      Sedan  Agra  \n",
       "4   First Owner    Petrol          68.05    5.0         19.81  Hatchback  Agra  "
      ]
     },
     "execution_count": 37,
     "metadata": {},
     "output_type": "execute_result"
    }
   ],
   "source": [
    "df.head()"
   ]
  },
  {
   "cell_type": "code",
   "execution_count": null,
   "metadata": {},
   "outputs": [],
   "source": []
  }
 ],
 "metadata": {
  "kernelspec": {
   "display_name": "Python 3",
   "language": "python",
   "name": "python3"
  },
  "language_info": {
   "codemirror_mode": {
    "name": "ipython",
    "version": 3
   },
   "file_extension": ".py",
   "mimetype": "text/x-python",
   "name": "python",
   "nbconvert_exporter": "python",
   "pygments_lexer": "ipython3",
   "version": "3.12.3"
  }
 },
 "nbformat": 4,
 "nbformat_minor": 2
}
